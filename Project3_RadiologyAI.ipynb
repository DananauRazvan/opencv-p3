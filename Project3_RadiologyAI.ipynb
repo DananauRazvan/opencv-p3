{
  "nbformat": 4,
  "nbformat_minor": 0,
  "metadata": {
    "colab": {
      "provenance": [],
      "machine_shape": "hm"
    },
    "kernelspec": {
      "display_name": "Python 3",
      "name": "python3"
    },
    "language_info": {
      "name": "python"
    },
    "accelerator": "GPU",
    "gpuClass": "standard"
  },
  "cells": [
    {
      "cell_type": "markdown",
      "metadata": {
        "id": "Ihfd9LJNY7XP"
      },
      "source": [
        "<h1>Overview</h1>\n",
        "\n",
        "Chest X-Rays have had a massive role in detecting Covid-19 in an individual. Considering how the disease has affected us, we will create a Deep-Learning model as the first level of self-diagnosis. It will classify the Chest XRay image into COVID, Pneumonia, or a healthy lung (i.e., no diseases found).\n",
        "\n",
        "This implementation classifies the Chest XRay image as Pneumonia or a healthy lung. Use this as a reference, and create a multiclass classification model, classifying the images into Covid-19, Pneumonia, or normal healthy lung.\n",
        "\n",
        "We will build this model in Python, using TensorFlow Keras.\n",
        "\n",
        "<h1>Problem Statement</h1>\n",
        "\n",
        "This implementation is ridiculed with errors. The model accuracy is low, and the predictions are incorrect. Moreover, the dataset needs to be updated for three-class classification and trained accordingly. It is recommended that you change the model.\n",
        "\n",
        "<h1>Datasets</h1>\n",
        "\n",
        "This notebook is implemented on Pneumonia and normal images. We've taken the dataset from https://www.kaggle.com/paultimothymooney/chest-xray-pneumonia, and hosted it on [dropbox](https://www.dropbox.com/s/oq0apzpkgql5rgo/Chest_X_ray%28Pneumonia%29.zip?dl=1) for easy access.<br>Ref: Kermany, Daniel; Zhang, Kang; Goldbaum, Michael (2018), \"Labeled Optical Coherence Tomography (OCT) and Chest X-Ray Images for Classification\", Mendeley Data, V2, doi: 10.17632/rscbjbr9sj.2\n",
        "\n",
        "For the submission, we are combining the datasets from multiple locations. You can find the individual datasets here:\n",
        "\n",
        "1. Kermany, Daniel; Zhang, Kang; Goldbaum, Michael (2018), \"Labeled Optical Coherence Tomography (OCT) and Chest X-Ray Images for Classification\", Mendeley Data, V2, doi: 10.17632/rscbjbr9sj.2\n",
        "2. [COVID19_Pneumonia_Normal_Chest_Xray_PA_Dataset](https://www.kaggle.com/amanullahasraf/covid19-pneumonia-normal-chest-xray-pa-dataset)\n",
        "3. * M.E.H. Chowdhury, T. Rahman, A. Khandakar, R. Mazhar, M.A. Kadir, Z.B. Mahbub, K.R. Islam, M.S. Khan, A. Iqbal, N. Al-Emadi, M.B.I. Reaz, M. T. Islam, \"Can AI help in screening Viral and COVID-19 pneumonia?\" IEEE Access, Vol. 8, 2020, pp. 132665 - 132676. [Paper link](https://ieeexplore.ieee.org/document/9144185)\n",
        "   * Rahman, T., Khandakar, A., Qiblawey, Y., Tahir, A., Kiranyaz, S., Kashem, S.B.A., Islam, M.T., Maadeed, S.A., Zughaier, S.M., Khan, M.S. and Chowdhury, M.E., 2020. Exploring the Effect of Image Enhancement Techniques on COVID-19 Detection using Chest X-ray Images. [Paper Link](https://doi.org/10.1016/j.compbiomed.2021.104319)\n",
        "\n",
        "We have combined and prepared the dataset already. You can download it from the following dropbox link: https://www.dropbox.com/s/73s9n7nugqrv1h7/Dataset.zip?dl=1\n",
        "\n",
        "Dataset contains 3 folders, namely:\n",
        "* <b>Covid</b>: This folder contains lung x-ray images with covid-19 disease\n",
        "* <b>Pneumonia</b>: This folder contains lung x-ray images with pneumonia disease\n",
        "* <b>Normal</b>: This folder contains normal functioning and healthy lung x-ray images\n",
        "\n",
        "<h1>Tasks</h1>\n",
        "\n",
        "<b>1. Train a pre-trained convolution neural network</b>\n",
        "\n",
        "Steps to approach this task:\n",
        "\n",
        "1. Save a copy of this notebook to your drive. Make sure to select \"GPU\" as the Hardware accelerator in the runtime option by going to <b>Runtime → Change runtime type → Hardware accelerator → GPU</b>.\n",
        "2. Update the `wget` command to download the new data. Then, `unzip` the dataset. Set the dataset_path accordingly. Set a fixed <b>seed</b> to make splits reproducible.\n",
        "3. Use [ImageDataGenerator’s](https://keras.io/api/preprocessing/image/) `flow_from_directory()` method for augmentation and loading of the train and validation splits. Data augmentation is optional, but if you use it, make sure you have the proper logic/explanation behind the augmentation that you apply.\n",
        "4. Normalise the input using the `rescale` parameter of `ImageDataGenerator`. Data normalisation is an important step that ensures that each input pixel has a similar data distribution.\n",
        "5. Use transfer learning to train the model. Select and initialise a model from [this list](https://www.tensorflow.org/api_docs/python/tf/keras/applications). Keep the imagenet weights.\n",
        "6. Add (at least) one custom `Dense` layer with `softmax` activation. After building your model, you will compile it and use accuracy as a metric.\n",
        "7. Add your desired callbacks which will help you during the training.\n",
        "8. Now, you can start with the training.\n",
        "9. This is a medical imaging project; hence 95% accuracy is expected. That is the benchmark for the project.\n",
        "10. Plot the loss and accuracy graphs using matplotlib or seaborn.\n",
        "11. Test your model on the test set provided. Generate the classification report and the confusion matrix for the same.\n",
        "\n",
        "<b>2. Test the model on an external test dataset</b>\n",
        "\n",
        "After you are satisfied with your model, head on to [this link](https://share.streamlit.io/opencv-ai-courses/radiologyai-app/main/app.py). Upload your best model here, and get the evaluation results. The size limit to upload the model is 700MB.\n",
        "\n",
        "![model-evaluation](http://courses.opencv.org/asset-v1:OpenCV+OpenCV-105+2019_T1+type@asset+block@model-evaluation.png)\n",
        "\n",
        "<b>3. Video Explanation</b>\n",
        "\n",
        "Make a short video explaining the changes you made in the notebook. You can create an interview type of video, screen recording, or send a document for the explanation.\n",
        " \n",
        "<h1>Submission</h1>\n",
        "\n",
        "In the form, you need to fill the following fields:\n",
        "1. Colab notebook link\n",
        "2. Screenshot of the external test set evaluation\n",
        "3. Video/Text explanation\n",
        "\n",
        "<h1>Grading Rubric</h1>\n",
        "\n",
        "1. Train the image classifier <b>70 Marks</b>\n",
        "2. Test the model on an external test dataset <b>10 Marks</b>\n",
        "3. Code Explanation <b>20 Marks</b>"
      ]
    },
    {
      "cell_type": "code",
      "metadata": {
        "colab": {
          "base_uri": "https://localhost:8080/"
        },
        "id": "eyfNr36ZKESZ",
        "outputId": "100546b6-cebe-4610-a788-9bdabd08d317"
      },
      "source": [
        "# Checking the GPU information\n",
        "\n",
        "!nvidia-smi"
      ],
      "execution_count": 1,
      "outputs": [
        {
          "output_type": "stream",
          "name": "stdout",
          "text": [
            "Mon Feb  6 15:54:20 2023       \n",
            "+-----------------------------------------------------------------------------+\n",
            "| NVIDIA-SMI 510.47.03    Driver Version: 510.47.03    CUDA Version: 11.6     |\n",
            "|-------------------------------+----------------------+----------------------+\n",
            "| GPU  Name        Persistence-M| Bus-Id        Disp.A | Volatile Uncorr. ECC |\n",
            "| Fan  Temp  Perf  Pwr:Usage/Cap|         Memory-Usage | GPU-Util  Compute M. |\n",
            "|                               |                      |               MIG M. |\n",
            "|===============================+======================+======================|\n",
            "|   0  Tesla T4            Off  | 00000000:00:04.0 Off |                    0 |\n",
            "| N/A   54C    P0    19W /  70W |      0MiB / 15360MiB |      0%      Default |\n",
            "|                               |                      |                  N/A |\n",
            "+-------------------------------+----------------------+----------------------+\n",
            "                                                                               \n",
            "+-----------------------------------------------------------------------------+\n",
            "| Processes:                                                                  |\n",
            "|  GPU   GI   CI        PID   Type   Process name                  GPU Memory |\n",
            "|        ID   ID                                                   Usage      |\n",
            "|=============================================================================|\n",
            "|  No running processes found                                                 |\n",
            "+-----------------------------------------------------------------------------+\n"
          ]
        }
      ]
    },
    {
      "cell_type": "code",
      "metadata": {
        "id": "xVnGKasItWNk"
      },
      "source": [
        "# Importing required libraries\n",
        "\n",
        "import tensorflow as tf\n",
        "from tensorflow.keras.preprocessing.image import ImageDataGenerator\n",
        "tf.keras.backend.clear_session()\n",
        "from tensorflow.keras.layers import Input, Softmax, Dense, Dropout, BatchNormalization\n",
        "from tensorflow.keras.models import Model\n",
        "import numpy as np\n",
        "from sklearn.metrics import classification_report\n",
        "from sklearn.metrics import confusion_matrix"
      ],
      "execution_count": 2,
      "outputs": []
    },
    {
      "cell_type": "code",
      "metadata": {
        "id": "BfJ73zhh9YO8"
      },
      "source": [
        "# Mounting Google drive to save models, and etc.\n",
        "\n",
        "# from google.colab import drive\n",
        "# drive.mount('/content/drive')"
      ],
      "execution_count": null,
      "outputs": []
    },
    {
      "cell_type": "code",
      "metadata": {
        "id": "TrfYSDhjL20d",
        "colab": {
          "base_uri": "https://localhost:8080/"
        },
        "outputId": "69b5cfcf-4012-4376-97fa-89fe3de99878"
      },
      "source": [
        "# Downloading the Chest X-ray dataset\n",
        "# New URL\n",
        "\n",
        "!wget https://www.dropbox.com/s/73s9n7nugqrv1h7/Dataset.zip?dl=1 -O 'archive.zip'"
      ],
      "execution_count": 3,
      "outputs": [
        {
          "output_type": "stream",
          "name": "stdout",
          "text": [
            "--2023-02-06 15:54:25--  https://www.dropbox.com/s/73s9n7nugqrv1h7/Dataset.zip?dl=1\n",
            "Resolving www.dropbox.com (www.dropbox.com)... 162.125.3.18, 2620:100:6019:18::a27d:412\n",
            "Connecting to www.dropbox.com (www.dropbox.com)|162.125.3.18|:443... connected.\n",
            "HTTP request sent, awaiting response... 302 Found\n",
            "Location: /s/dl/73s9n7nugqrv1h7/Dataset.zip [following]\n",
            "--2023-02-06 15:54:26--  https://www.dropbox.com/s/dl/73s9n7nugqrv1h7/Dataset.zip\n",
            "Reusing existing connection to www.dropbox.com:443.\n",
            "HTTP request sent, awaiting response... 302 Found\n",
            "Location: https://ucd901ae937ac7a64bebc5e9d1c1.dl.dropboxusercontent.com/cd/0/get/B18HbnVLkzs0EHCI88bs_Vq3Eqo8XVeYEUJ7Lisb016ipTU74iDKbQQc4gXWRR1aBAM1uhXvVJLqienbtrhWmOwKv5abEVxDK7kpdhzw8zGElh_fUj4yiwCCKL35hKxpNSzJ47iql3Sc1UoQ-cqHP4m_NHLm5-6HhE6sWgzn_lQlJsQOyyR5G4mJca4Ls-87MpA/file?dl=1# [following]\n",
            "--2023-02-06 15:54:29--  https://ucd901ae937ac7a64bebc5e9d1c1.dl.dropboxusercontent.com/cd/0/get/B18HbnVLkzs0EHCI88bs_Vq3Eqo8XVeYEUJ7Lisb016ipTU74iDKbQQc4gXWRR1aBAM1uhXvVJLqienbtrhWmOwKv5abEVxDK7kpdhzw8zGElh_fUj4yiwCCKL35hKxpNSzJ47iql3Sc1UoQ-cqHP4m_NHLm5-6HhE6sWgzn_lQlJsQOyyR5G4mJca4Ls-87MpA/file?dl=1\n",
            "Resolving ucd901ae937ac7a64bebc5e9d1c1.dl.dropboxusercontent.com (ucd901ae937ac7a64bebc5e9d1c1.dl.dropboxusercontent.com)... 162.125.3.15, 2620:100:6018:15::a27d:30f\n",
            "Connecting to ucd901ae937ac7a64bebc5e9d1c1.dl.dropboxusercontent.com (ucd901ae937ac7a64bebc5e9d1c1.dl.dropboxusercontent.com)|162.125.3.15|:443... connected.\n",
            "HTTP request sent, awaiting response... 200 OK\n",
            "Length: 2090247044 (1.9G) [application/binary]\n",
            "Saving to: ‘archive.zip’\n",
            "\n",
            "archive.zip         100%[===================>]   1.95G  76.5MB/s    in 27s     \n",
            "\n",
            "2023-02-06 15:54:57 (72.5 MB/s) - ‘archive.zip’ saved [2090247044/2090247044]\n",
            "\n"
          ]
        }
      ]
    },
    {
      "cell_type": "code",
      "metadata": {
        "id": "a2ZfCB8sMNsi"
      },
      "source": [
        "# Unzipping the dataset and delete the .zip file\n",
        "\n",
        "!unzip -q '/content/archive.zip'\n",
        "!rm -rf '/content/archive.zip'"
      ],
      "execution_count": 4,
      "outputs": []
    },
    {
      "cell_type": "code",
      "metadata": {
        "id": "jRjJftQ2tTu8"
      },
      "source": [
        "# Settting up batch size, random seed, and the dataset path\n",
        "# New path\n",
        "\n",
        "BATCH_SIZE = 64\n",
        "SEED = 21\n",
        "dataset_path = '/content/Dataset'"
      ],
      "execution_count": 5,
      "outputs": []
    },
    {
      "cell_type": "code",
      "metadata": {
        "id": "1WmRUvy1R4Sf"
      },
      "source": [
        "# Initialising ImageDataGenerator for data augmentation\n",
        "# We use random horizontal flip for augmentation\n",
        "# Pixels will be notmalised between 0 and 1\n",
        "  # zca_epsilon: Epsilon for ZCA whitening. Default is 1e-6\n",
        "  # Horizontal_flip: Boolean. Randomly flip inputs horizontally.\n",
        "  # Rescale: Rescaling factor, defaults to None.\n",
        "           # If None or 0, no rescaling is applied, otherwise it multiplied the data by the value provided\n",
        "           # (after applying all other transformations)\n",
        "\n",
        "train_val_gen = ImageDataGenerator(zca_epsilon = 0.0,\n",
        "                                   horizontal_flip = False,\n",
        "                                   rescale = 1./255)        # Do not change rescale\n",
        "\n",
        "test_gen = ImageDataGenerator(zca_epsilon = 0.0,\n",
        "                              horizontal_flip = False,\n",
        "                              rescale = 1./255)             # Do not change rescale\n",
        "\n",
        "# The evaluation on streamlit share assumes rescaling takes place,\n",
        "# and it is 1./255 always"
      ],
      "execution_count": 6,
      "outputs": []
    },
    {
      "cell_type": "code",
      "metadata": {
        "colab": {
          "base_uri": "https://localhost:8080/"
        },
        "id": "AKi9Wo4SR4RW",
        "outputId": "73eda58d-2a63-47f8-c1e3-ae037ba59af5"
      },
      "source": [
        "# Taking input of the train, validation, and test images using flow_from_directory() function\n",
        "# Setting the image size to (224, 224) and setting the batch size\n",
        "\n",
        "train_datagen = train_val_gen.flow_from_directory(directory = dataset_path + '/train',\n",
        "                                                  target_size = (224, 224),\n",
        "                                                  color_mode = \"rgb\",\n",
        "                                                  classes = None,\n",
        "                                                  class_mode = \"categorical\",\n",
        "                                                  batch_size = BATCH_SIZE,\n",
        "                                                  shuffle = True,\n",
        "                                                  seed = SEED,\n",
        "                                                  interpolation = \"nearest\")\n",
        "\n",
        "val_datagen = train_val_gen.flow_from_directory(directory = dataset_path + '/val',\n",
        "                                                target_size = (224, 224),\n",
        "                                                color_mode = \"rgb\",\n",
        "                                                classes = None,\n",
        "                                                class_mode = \"categorical\",\n",
        "                                                batch_size = BATCH_SIZE,\n",
        "                                                shuffle = True,\n",
        "                                                seed = SEED,\n",
        "                                                interpolation = \"nearest\")\n",
        "\n",
        "\n",
        "# For testing, we should take one input at a time. Hence, batch_size = 1\n",
        "\n",
        "test_datagen = test_gen.flow_from_directory(directory = dataset_path + '/test',\n",
        "                                            target_size = (224, 224),\n",
        "                                            color_mode = \"rgb\",\n",
        "                                            classes = None,\n",
        "                                            class_mode = \"categorical\",\n",
        "                                            batch_size = 1,\n",
        "                                            shuffle = False,\n",
        "                                            seed = SEED,\n",
        "                                            interpolation = \"nearest\")"
      ],
      "execution_count": 7,
      "outputs": [
        {
          "output_type": "stream",
          "name": "stdout",
          "text": [
            "Found 11290 images belonging to 3 classes.\n",
            "Found 3215 images belonging to 3 classes.\n",
            "Found 1563 images belonging to 3 classes.\n"
          ]
        }
      ]
    },
    {
      "cell_type": "code",
      "metadata": {
        "id": "WFtGrCLxRoO3",
        "colab": {
          "base_uri": "https://localhost:8080/"
        },
        "outputId": "9a9aa9b7-9df6-400a-a6b1-a34956e18982"
      },
      "source": [
        "# Initialising MobileNet model and passing the imagenet weights\n",
        "# We are specifying classes = 1000 because the model was trained on 1000 classes\n",
        "# The classes will be changed afterwards according to our problem\n",
        "\n",
        "pretrained_model = tf.keras.applications.MobileNet(weights = 'imagenet',\n",
        "                                                   classes = 1000,\n",
        "                                                   input_shape = (224, 224, 3),\n",
        "                                                   include_top = False,\n",
        "                                                   pooling = 'max')"
      ],
      "execution_count": 8,
      "outputs": [
        {
          "output_type": "stream",
          "name": "stdout",
          "text": [
            "Downloading data from https://storage.googleapis.com/tensorflow/keras-applications/mobilenet/mobilenet_1_0_224_tf_no_top.h5\n",
            "17225924/17225924 [==============================] - 0s 0us/step\n"
          ]
        }
      ]
    },
    {
      "cell_type": "code",
      "metadata": {
        "id": "JiKY43qDxf71",
        "colab": {
          "base_uri": "https://localhost:8080/"
        },
        "outputId": "98807d25-7d91-44b8-ca49-61ddda06197e"
      },
      "source": [
        "# Printing the model summary\n",
        "\n",
        "print(pretrained_model.summary())"
      ],
      "execution_count": 9,
      "outputs": [
        {
          "output_type": "stream",
          "name": "stdout",
          "text": [
            "Model: \"mobilenet_1.00_224\"\n",
            "_________________________________________________________________\n",
            " Layer (type)                Output Shape              Param #   \n",
            "=================================================================\n",
            " input_1 (InputLayer)        [(None, 224, 224, 3)]     0         \n",
            "                                                                 \n",
            " conv1 (Conv2D)              (None, 112, 112, 32)      864       \n",
            "                                                                 \n",
            " conv1_bn (BatchNormalizatio  (None, 112, 112, 32)     128       \n",
            " n)                                                              \n",
            "                                                                 \n",
            " conv1_relu (ReLU)           (None, 112, 112, 32)      0         \n",
            "                                                                 \n",
            " conv_dw_1 (DepthwiseConv2D)  (None, 112, 112, 32)     288       \n",
            "                                                                 \n",
            " conv_dw_1_bn (BatchNormaliz  (None, 112, 112, 32)     128       \n",
            " ation)                                                          \n",
            "                                                                 \n",
            " conv_dw_1_relu (ReLU)       (None, 112, 112, 32)      0         \n",
            "                                                                 \n",
            " conv_pw_1 (Conv2D)          (None, 112, 112, 64)      2048      \n",
            "                                                                 \n",
            " conv_pw_1_bn (BatchNormaliz  (None, 112, 112, 64)     256       \n",
            " ation)                                                          \n",
            "                                                                 \n",
            " conv_pw_1_relu (ReLU)       (None, 112, 112, 64)      0         \n",
            "                                                                 \n",
            " conv_pad_2 (ZeroPadding2D)  (None, 113, 113, 64)      0         \n",
            "                                                                 \n",
            " conv_dw_2 (DepthwiseConv2D)  (None, 56, 56, 64)       576       \n",
            "                                                                 \n",
            " conv_dw_2_bn (BatchNormaliz  (None, 56, 56, 64)       256       \n",
            " ation)                                                          \n",
            "                                                                 \n",
            " conv_dw_2_relu (ReLU)       (None, 56, 56, 64)        0         \n",
            "                                                                 \n",
            " conv_pw_2 (Conv2D)          (None, 56, 56, 128)       8192      \n",
            "                                                                 \n",
            " conv_pw_2_bn (BatchNormaliz  (None, 56, 56, 128)      512       \n",
            " ation)                                                          \n",
            "                                                                 \n",
            " conv_pw_2_relu (ReLU)       (None, 56, 56, 128)       0         \n",
            "                                                                 \n",
            " conv_dw_3 (DepthwiseConv2D)  (None, 56, 56, 128)      1152      \n",
            "                                                                 \n",
            " conv_dw_3_bn (BatchNormaliz  (None, 56, 56, 128)      512       \n",
            " ation)                                                          \n",
            "                                                                 \n",
            " conv_dw_3_relu (ReLU)       (None, 56, 56, 128)       0         \n",
            "                                                                 \n",
            " conv_pw_3 (Conv2D)          (None, 56, 56, 128)       16384     \n",
            "                                                                 \n",
            " conv_pw_3_bn (BatchNormaliz  (None, 56, 56, 128)      512       \n",
            " ation)                                                          \n",
            "                                                                 \n",
            " conv_pw_3_relu (ReLU)       (None, 56, 56, 128)       0         \n",
            "                                                                 \n",
            " conv_pad_4 (ZeroPadding2D)  (None, 57, 57, 128)       0         \n",
            "                                                                 \n",
            " conv_dw_4 (DepthwiseConv2D)  (None, 28, 28, 128)      1152      \n",
            "                                                                 \n",
            " conv_dw_4_bn (BatchNormaliz  (None, 28, 28, 128)      512       \n",
            " ation)                                                          \n",
            "                                                                 \n",
            " conv_dw_4_relu (ReLU)       (None, 28, 28, 128)       0         \n",
            "                                                                 \n",
            " conv_pw_4 (Conv2D)          (None, 28, 28, 256)       32768     \n",
            "                                                                 \n",
            " conv_pw_4_bn (BatchNormaliz  (None, 28, 28, 256)      1024      \n",
            " ation)                                                          \n",
            "                                                                 \n",
            " conv_pw_4_relu (ReLU)       (None, 28, 28, 256)       0         \n",
            "                                                                 \n",
            " conv_dw_5 (DepthwiseConv2D)  (None, 28, 28, 256)      2304      \n",
            "                                                                 \n",
            " conv_dw_5_bn (BatchNormaliz  (None, 28, 28, 256)      1024      \n",
            " ation)                                                          \n",
            "                                                                 \n",
            " conv_dw_5_relu (ReLU)       (None, 28, 28, 256)       0         \n",
            "                                                                 \n",
            " conv_pw_5 (Conv2D)          (None, 28, 28, 256)       65536     \n",
            "                                                                 \n",
            " conv_pw_5_bn (BatchNormaliz  (None, 28, 28, 256)      1024      \n",
            " ation)                                                          \n",
            "                                                                 \n",
            " conv_pw_5_relu (ReLU)       (None, 28, 28, 256)       0         \n",
            "                                                                 \n",
            " conv_pad_6 (ZeroPadding2D)  (None, 29, 29, 256)       0         \n",
            "                                                                 \n",
            " conv_dw_6 (DepthwiseConv2D)  (None, 14, 14, 256)      2304      \n",
            "                                                                 \n",
            " conv_dw_6_bn (BatchNormaliz  (None, 14, 14, 256)      1024      \n",
            " ation)                                                          \n",
            "                                                                 \n",
            " conv_dw_6_relu (ReLU)       (None, 14, 14, 256)       0         \n",
            "                                                                 \n",
            " conv_pw_6 (Conv2D)          (None, 14, 14, 512)       131072    \n",
            "                                                                 \n",
            " conv_pw_6_bn (BatchNormaliz  (None, 14, 14, 512)      2048      \n",
            " ation)                                                          \n",
            "                                                                 \n",
            " conv_pw_6_relu (ReLU)       (None, 14, 14, 512)       0         \n",
            "                                                                 \n",
            " conv_dw_7 (DepthwiseConv2D)  (None, 14, 14, 512)      4608      \n",
            "                                                                 \n",
            " conv_dw_7_bn (BatchNormaliz  (None, 14, 14, 512)      2048      \n",
            " ation)                                                          \n",
            "                                                                 \n",
            " conv_dw_7_relu (ReLU)       (None, 14, 14, 512)       0         \n",
            "                                                                 \n",
            " conv_pw_7 (Conv2D)          (None, 14, 14, 512)       262144    \n",
            "                                                                 \n",
            " conv_pw_7_bn (BatchNormaliz  (None, 14, 14, 512)      2048      \n",
            " ation)                                                          \n",
            "                                                                 \n",
            " conv_pw_7_relu (ReLU)       (None, 14, 14, 512)       0         \n",
            "                                                                 \n",
            " conv_dw_8 (DepthwiseConv2D)  (None, 14, 14, 512)      4608      \n",
            "                                                                 \n",
            " conv_dw_8_bn (BatchNormaliz  (None, 14, 14, 512)      2048      \n",
            " ation)                                                          \n",
            "                                                                 \n",
            " conv_dw_8_relu (ReLU)       (None, 14, 14, 512)       0         \n",
            "                                                                 \n",
            " conv_pw_8 (Conv2D)          (None, 14, 14, 512)       262144    \n",
            "                                                                 \n",
            " conv_pw_8_bn (BatchNormaliz  (None, 14, 14, 512)      2048      \n",
            " ation)                                                          \n",
            "                                                                 \n",
            " conv_pw_8_relu (ReLU)       (None, 14, 14, 512)       0         \n",
            "                                                                 \n",
            " conv_dw_9 (DepthwiseConv2D)  (None, 14, 14, 512)      4608      \n",
            "                                                                 \n",
            " conv_dw_9_bn (BatchNormaliz  (None, 14, 14, 512)      2048      \n",
            " ation)                                                          \n",
            "                                                                 \n",
            " conv_dw_9_relu (ReLU)       (None, 14, 14, 512)       0         \n",
            "                                                                 \n",
            " conv_pw_9 (Conv2D)          (None, 14, 14, 512)       262144    \n",
            "                                                                 \n",
            " conv_pw_9_bn (BatchNormaliz  (None, 14, 14, 512)      2048      \n",
            " ation)                                                          \n",
            "                                                                 \n",
            " conv_pw_9_relu (ReLU)       (None, 14, 14, 512)       0         \n",
            "                                                                 \n",
            " conv_dw_10 (DepthwiseConv2D  (None, 14, 14, 512)      4608      \n",
            " )                                                               \n",
            "                                                                 \n",
            " conv_dw_10_bn (BatchNormali  (None, 14, 14, 512)      2048      \n",
            " zation)                                                         \n",
            "                                                                 \n",
            " conv_dw_10_relu (ReLU)      (None, 14, 14, 512)       0         \n",
            "                                                                 \n",
            " conv_pw_10 (Conv2D)         (None, 14, 14, 512)       262144    \n",
            "                                                                 \n",
            " conv_pw_10_bn (BatchNormali  (None, 14, 14, 512)      2048      \n",
            " zation)                                                         \n",
            "                                                                 \n",
            " conv_pw_10_relu (ReLU)      (None, 14, 14, 512)       0         \n",
            "                                                                 \n",
            " conv_dw_11 (DepthwiseConv2D  (None, 14, 14, 512)      4608      \n",
            " )                                                               \n",
            "                                                                 \n",
            " conv_dw_11_bn (BatchNormali  (None, 14, 14, 512)      2048      \n",
            " zation)                                                         \n",
            "                                                                 \n",
            " conv_dw_11_relu (ReLU)      (None, 14, 14, 512)       0         \n",
            "                                                                 \n",
            " conv_pw_11 (Conv2D)         (None, 14, 14, 512)       262144    \n",
            "                                                                 \n",
            " conv_pw_11_bn (BatchNormali  (None, 14, 14, 512)      2048      \n",
            " zation)                                                         \n",
            "                                                                 \n",
            " conv_pw_11_relu (ReLU)      (None, 14, 14, 512)       0         \n",
            "                                                                 \n",
            " conv_pad_12 (ZeroPadding2D)  (None, 15, 15, 512)      0         \n",
            "                                                                 \n",
            " conv_dw_12 (DepthwiseConv2D  (None, 7, 7, 512)        4608      \n",
            " )                                                               \n",
            "                                                                 \n",
            " conv_dw_12_bn (BatchNormali  (None, 7, 7, 512)        2048      \n",
            " zation)                                                         \n",
            "                                                                 \n",
            " conv_dw_12_relu (ReLU)      (None, 7, 7, 512)         0         \n",
            "                                                                 \n",
            " conv_pw_12 (Conv2D)         (None, 7, 7, 1024)        524288    \n",
            "                                                                 \n",
            " conv_pw_12_bn (BatchNormali  (None, 7, 7, 1024)       4096      \n",
            " zation)                                                         \n",
            "                                                                 \n",
            " conv_pw_12_relu (ReLU)      (None, 7, 7, 1024)        0         \n",
            "                                                                 \n",
            " conv_dw_13 (DepthwiseConv2D  (None, 7, 7, 1024)       9216      \n",
            " )                                                               \n",
            "                                                                 \n",
            " conv_dw_13_bn (BatchNormali  (None, 7, 7, 1024)       4096      \n",
            " zation)                                                         \n",
            "                                                                 \n",
            " conv_dw_13_relu (ReLU)      (None, 7, 7, 1024)        0         \n",
            "                                                                 \n",
            " conv_pw_13 (Conv2D)         (None, 7, 7, 1024)        1048576   \n",
            "                                                                 \n",
            " conv_pw_13_bn (BatchNormali  (None, 7, 7, 1024)       4096      \n",
            " zation)                                                         \n",
            "                                                                 \n",
            " conv_pw_13_relu (ReLU)      (None, 7, 7, 1024)        0         \n",
            "                                                                 \n",
            " global_max_pooling2d (Globa  (None, 1024)             0         \n",
            " lMaxPooling2D)                                                  \n",
            "                                                                 \n",
            "=================================================================\n",
            "Total params: 3,228,864\n",
            "Trainable params: 3,206,976\n",
            "Non-trainable params: 21,888\n",
            "_________________________________________________________________\n",
            "None\n"
          ]
        }
      ]
    },
    {
      "cell_type": "code",
      "metadata": {
        "id": "RCImQBINZnEw"
      },
      "source": [
        "predictions = Dense(3, activation = 'softmax')(pretrained_model.output)\n",
        "\n",
        "\n",
        "# Defining new model's input and output layers\n",
        "# Input layer of the new model will be the same as MobileNet\n",
        "# But the output of the new model will be the output of final dense layer, i.e., 2 units\n",
        "\n",
        "model = Model(inputs = pretrained_model.input, outputs = predictions)\n",
        "\n",
        "\n",
        "# We use the SGD optimiser, with a very low learning rate, and loss function which is specific to two class classification\n",
        "\n",
        "model.compile(optimizer = tf.keras.optimizers.SGD(0.000001),\n",
        "              loss = \"categorical_crossentropy\",\n",
        "              metrics = [\"accuracy\"])"
      ],
      "execution_count": 12,
      "outputs": []
    },
    {
      "cell_type": "code",
      "metadata": {
        "id": "mvbvJ1H36ntf"
      },
      "source": [
        "# You can directly save the model into your Google drive by changing the below path\n",
        "\n",
        "model_filepath = '/content/best_model.h5'\n",
        "\n",
        "\n",
        "# ModelCheckpoint callback will save models weight if the training accuracy of the model has increased from the previous epoch\n",
        "\n",
        "model_save = tf.keras.callbacks.ModelCheckpoint(model_filepath,\n",
        "                                                monitor = \"val_accuracy\",\n",
        "                                                verbose = 0,\n",
        "                                                save_best_only = True,\n",
        "                                                save_weights_only = False,\n",
        "                                                mode = \"max\",\n",
        "                                                save_freq = \"epoch\")\n",
        "\n",
        "\n",
        "# Additionally you can add more callbacks, like ReduceLROnPlateau\n",
        "\n",
        "callback = [model_save]"
      ],
      "execution_count": 13,
      "outputs": []
    },
    {
      "cell_type": "code",
      "metadata": {
        "id": "pj8Wh3qHy-P1",
        "colab": {
          "base_uri": "https://localhost:8080/"
        },
        "outputId": "3c907efe-6fd7-4eda-c042-2cced2c6e2cd"
      },
      "source": [
        "# Printing the model summary\n",
        "\n",
        "print(model.summary())"
      ],
      "execution_count": 14,
      "outputs": [
        {
          "output_type": "stream",
          "name": "stdout",
          "text": [
            "Model: \"model\"\n",
            "_________________________________________________________________\n",
            " Layer (type)                Output Shape              Param #   \n",
            "=================================================================\n",
            " input_1 (InputLayer)        [(None, 224, 224, 3)]     0         \n",
            "                                                                 \n",
            " conv1 (Conv2D)              (None, 112, 112, 32)      864       \n",
            "                                                                 \n",
            " conv1_bn (BatchNormalizatio  (None, 112, 112, 32)     128       \n",
            " n)                                                              \n",
            "                                                                 \n",
            " conv1_relu (ReLU)           (None, 112, 112, 32)      0         \n",
            "                                                                 \n",
            " conv_dw_1 (DepthwiseConv2D)  (None, 112, 112, 32)     288       \n",
            "                                                                 \n",
            " conv_dw_1_bn (BatchNormaliz  (None, 112, 112, 32)     128       \n",
            " ation)                                                          \n",
            "                                                                 \n",
            " conv_dw_1_relu (ReLU)       (None, 112, 112, 32)      0         \n",
            "                                                                 \n",
            " conv_pw_1 (Conv2D)          (None, 112, 112, 64)      2048      \n",
            "                                                                 \n",
            " conv_pw_1_bn (BatchNormaliz  (None, 112, 112, 64)     256       \n",
            " ation)                                                          \n",
            "                                                                 \n",
            " conv_pw_1_relu (ReLU)       (None, 112, 112, 64)      0         \n",
            "                                                                 \n",
            " conv_pad_2 (ZeroPadding2D)  (None, 113, 113, 64)      0         \n",
            "                                                                 \n",
            " conv_dw_2 (DepthwiseConv2D)  (None, 56, 56, 64)       576       \n",
            "                                                                 \n",
            " conv_dw_2_bn (BatchNormaliz  (None, 56, 56, 64)       256       \n",
            " ation)                                                          \n",
            "                                                                 \n",
            " conv_dw_2_relu (ReLU)       (None, 56, 56, 64)        0         \n",
            "                                                                 \n",
            " conv_pw_2 (Conv2D)          (None, 56, 56, 128)       8192      \n",
            "                                                                 \n",
            " conv_pw_2_bn (BatchNormaliz  (None, 56, 56, 128)      512       \n",
            " ation)                                                          \n",
            "                                                                 \n",
            " conv_pw_2_relu (ReLU)       (None, 56, 56, 128)       0         \n",
            "                                                                 \n",
            " conv_dw_3 (DepthwiseConv2D)  (None, 56, 56, 128)      1152      \n",
            "                                                                 \n",
            " conv_dw_3_bn (BatchNormaliz  (None, 56, 56, 128)      512       \n",
            " ation)                                                          \n",
            "                                                                 \n",
            " conv_dw_3_relu (ReLU)       (None, 56, 56, 128)       0         \n",
            "                                                                 \n",
            " conv_pw_3 (Conv2D)          (None, 56, 56, 128)       16384     \n",
            "                                                                 \n",
            " conv_pw_3_bn (BatchNormaliz  (None, 56, 56, 128)      512       \n",
            " ation)                                                          \n",
            "                                                                 \n",
            " conv_pw_3_relu (ReLU)       (None, 56, 56, 128)       0         \n",
            "                                                                 \n",
            " conv_pad_4 (ZeroPadding2D)  (None, 57, 57, 128)       0         \n",
            "                                                                 \n",
            " conv_dw_4 (DepthwiseConv2D)  (None, 28, 28, 128)      1152      \n",
            "                                                                 \n",
            " conv_dw_4_bn (BatchNormaliz  (None, 28, 28, 128)      512       \n",
            " ation)                                                          \n",
            "                                                                 \n",
            " conv_dw_4_relu (ReLU)       (None, 28, 28, 128)       0         \n",
            "                                                                 \n",
            " conv_pw_4 (Conv2D)          (None, 28, 28, 256)       32768     \n",
            "                                                                 \n",
            " conv_pw_4_bn (BatchNormaliz  (None, 28, 28, 256)      1024      \n",
            " ation)                                                          \n",
            "                                                                 \n",
            " conv_pw_4_relu (ReLU)       (None, 28, 28, 256)       0         \n",
            "                                                                 \n",
            " conv_dw_5 (DepthwiseConv2D)  (None, 28, 28, 256)      2304      \n",
            "                                                                 \n",
            " conv_dw_5_bn (BatchNormaliz  (None, 28, 28, 256)      1024      \n",
            " ation)                                                          \n",
            "                                                                 \n",
            " conv_dw_5_relu (ReLU)       (None, 28, 28, 256)       0         \n",
            "                                                                 \n",
            " conv_pw_5 (Conv2D)          (None, 28, 28, 256)       65536     \n",
            "                                                                 \n",
            " conv_pw_5_bn (BatchNormaliz  (None, 28, 28, 256)      1024      \n",
            " ation)                                                          \n",
            "                                                                 \n",
            " conv_pw_5_relu (ReLU)       (None, 28, 28, 256)       0         \n",
            "                                                                 \n",
            " conv_pad_6 (ZeroPadding2D)  (None, 29, 29, 256)       0         \n",
            "                                                                 \n",
            " conv_dw_6 (DepthwiseConv2D)  (None, 14, 14, 256)      2304      \n",
            "                                                                 \n",
            " conv_dw_6_bn (BatchNormaliz  (None, 14, 14, 256)      1024      \n",
            " ation)                                                          \n",
            "                                                                 \n",
            " conv_dw_6_relu (ReLU)       (None, 14, 14, 256)       0         \n",
            "                                                                 \n",
            " conv_pw_6 (Conv2D)          (None, 14, 14, 512)       131072    \n",
            "                                                                 \n",
            " conv_pw_6_bn (BatchNormaliz  (None, 14, 14, 512)      2048      \n",
            " ation)                                                          \n",
            "                                                                 \n",
            " conv_pw_6_relu (ReLU)       (None, 14, 14, 512)       0         \n",
            "                                                                 \n",
            " conv_dw_7 (DepthwiseConv2D)  (None, 14, 14, 512)      4608      \n",
            "                                                                 \n",
            " conv_dw_7_bn (BatchNormaliz  (None, 14, 14, 512)      2048      \n",
            " ation)                                                          \n",
            "                                                                 \n",
            " conv_dw_7_relu (ReLU)       (None, 14, 14, 512)       0         \n",
            "                                                                 \n",
            " conv_pw_7 (Conv2D)          (None, 14, 14, 512)       262144    \n",
            "                                                                 \n",
            " conv_pw_7_bn (BatchNormaliz  (None, 14, 14, 512)      2048      \n",
            " ation)                                                          \n",
            "                                                                 \n",
            " conv_pw_7_relu (ReLU)       (None, 14, 14, 512)       0         \n",
            "                                                                 \n",
            " conv_dw_8 (DepthwiseConv2D)  (None, 14, 14, 512)      4608      \n",
            "                                                                 \n",
            " conv_dw_8_bn (BatchNormaliz  (None, 14, 14, 512)      2048      \n",
            " ation)                                                          \n",
            "                                                                 \n",
            " conv_dw_8_relu (ReLU)       (None, 14, 14, 512)       0         \n",
            "                                                                 \n",
            " conv_pw_8 (Conv2D)          (None, 14, 14, 512)       262144    \n",
            "                                                                 \n",
            " conv_pw_8_bn (BatchNormaliz  (None, 14, 14, 512)      2048      \n",
            " ation)                                                          \n",
            "                                                                 \n",
            " conv_pw_8_relu (ReLU)       (None, 14, 14, 512)       0         \n",
            "                                                                 \n",
            " conv_dw_9 (DepthwiseConv2D)  (None, 14, 14, 512)      4608      \n",
            "                                                                 \n",
            " conv_dw_9_bn (BatchNormaliz  (None, 14, 14, 512)      2048      \n",
            " ation)                                                          \n",
            "                                                                 \n",
            " conv_dw_9_relu (ReLU)       (None, 14, 14, 512)       0         \n",
            "                                                                 \n",
            " conv_pw_9 (Conv2D)          (None, 14, 14, 512)       262144    \n",
            "                                                                 \n",
            " conv_pw_9_bn (BatchNormaliz  (None, 14, 14, 512)      2048      \n",
            " ation)                                                          \n",
            "                                                                 \n",
            " conv_pw_9_relu (ReLU)       (None, 14, 14, 512)       0         \n",
            "                                                                 \n",
            " conv_dw_10 (DepthwiseConv2D  (None, 14, 14, 512)      4608      \n",
            " )                                                               \n",
            "                                                                 \n",
            " conv_dw_10_bn (BatchNormali  (None, 14, 14, 512)      2048      \n",
            " zation)                                                         \n",
            "                                                                 \n",
            " conv_dw_10_relu (ReLU)      (None, 14, 14, 512)       0         \n",
            "                                                                 \n",
            " conv_pw_10 (Conv2D)         (None, 14, 14, 512)       262144    \n",
            "                                                                 \n",
            " conv_pw_10_bn (BatchNormali  (None, 14, 14, 512)      2048      \n",
            " zation)                                                         \n",
            "                                                                 \n",
            " conv_pw_10_relu (ReLU)      (None, 14, 14, 512)       0         \n",
            "                                                                 \n",
            " conv_dw_11 (DepthwiseConv2D  (None, 14, 14, 512)      4608      \n",
            " )                                                               \n",
            "                                                                 \n",
            " conv_dw_11_bn (BatchNormali  (None, 14, 14, 512)      2048      \n",
            " zation)                                                         \n",
            "                                                                 \n",
            " conv_dw_11_relu (ReLU)      (None, 14, 14, 512)       0         \n",
            "                                                                 \n",
            " conv_pw_11 (Conv2D)         (None, 14, 14, 512)       262144    \n",
            "                                                                 \n",
            " conv_pw_11_bn (BatchNormali  (None, 14, 14, 512)      2048      \n",
            " zation)                                                         \n",
            "                                                                 \n",
            " conv_pw_11_relu (ReLU)      (None, 14, 14, 512)       0         \n",
            "                                                                 \n",
            " conv_pad_12 (ZeroPadding2D)  (None, 15, 15, 512)      0         \n",
            "                                                                 \n",
            " conv_dw_12 (DepthwiseConv2D  (None, 7, 7, 512)        4608      \n",
            " )                                                               \n",
            "                                                                 \n",
            " conv_dw_12_bn (BatchNormali  (None, 7, 7, 512)        2048      \n",
            " zation)                                                         \n",
            "                                                                 \n",
            " conv_dw_12_relu (ReLU)      (None, 7, 7, 512)         0         \n",
            "                                                                 \n",
            " conv_pw_12 (Conv2D)         (None, 7, 7, 1024)        524288    \n",
            "                                                                 \n",
            " conv_pw_12_bn (BatchNormali  (None, 7, 7, 1024)       4096      \n",
            " zation)                                                         \n",
            "                                                                 \n",
            " conv_pw_12_relu (ReLU)      (None, 7, 7, 1024)        0         \n",
            "                                                                 \n",
            " conv_dw_13 (DepthwiseConv2D  (None, 7, 7, 1024)       9216      \n",
            " )                                                               \n",
            "                                                                 \n",
            " conv_dw_13_bn (BatchNormali  (None, 7, 7, 1024)       4096      \n",
            " zation)                                                         \n",
            "                                                                 \n",
            " conv_dw_13_relu (ReLU)      (None, 7, 7, 1024)        0         \n",
            "                                                                 \n",
            " conv_pw_13 (Conv2D)         (None, 7, 7, 1024)        1048576   \n",
            "                                                                 \n",
            " conv_pw_13_bn (BatchNormali  (None, 7, 7, 1024)       4096      \n",
            " zation)                                                         \n",
            "                                                                 \n",
            " conv_pw_13_relu (ReLU)      (None, 7, 7, 1024)        0         \n",
            "                                                                 \n",
            " global_max_pooling2d (Globa  (None, 1024)             0         \n",
            " lMaxPooling2D)                                                  \n",
            "                                                                 \n",
            " dense (Dense)               (None, 3)                 3075      \n",
            "                                                                 \n",
            "=================================================================\n",
            "Total params: 3,231,939\n",
            "Trainable params: 3,210,051\n",
            "Non-trainable params: 21,888\n",
            "_________________________________________________________________\n",
            "None\n"
          ]
        }
      ]
    },
    {
      "cell_type": "code",
      "metadata": {
        "colab": {
          "base_uri": "https://localhost:8080/"
        },
        "id": "BvuPYVxr3cJG",
        "outputId": "22e586d0-4a26-4463-b7f1-f5c6cb959f7e"
      },
      "source": [
        "# Training the model for 5 epochs\n",
        "# Shuffle is set to false because the data is already shuffled in flow_from_directory() method\n",
        "\n",
        "history = model.fit(train_datagen,\n",
        "                    epochs = 5,\n",
        "                    steps_per_epoch = (len(train_datagen)),\n",
        "                    validation_data = val_datagen,\n",
        "                    validation_steps = (len(val_datagen)),\n",
        "                    shuffle = False,\n",
        "                    callbacks = callback)"
      ],
      "execution_count": 15,
      "outputs": [
        {
          "output_type": "stream",
          "name": "stdout",
          "text": [
            "Epoch 1/5\n",
            "177/177 [==============================] - 126s 649ms/step - loss: 4.2975 - accuracy: 0.3337 - val_loss: 3.8252 - val_accuracy: 0.3705\n",
            "Epoch 2/5\n",
            "177/177 [==============================] - 111s 622ms/step - loss: 3.1512 - accuracy: 0.3459 - val_loss: 3.3775 - val_accuracy: 0.3686\n",
            "Epoch 3/5\n",
            "177/177 [==============================] - 111s 624ms/step - loss: 2.6471 - accuracy: 0.3551 - val_loss: 2.8240 - val_accuracy: 0.3633\n",
            "Epoch 4/5\n",
            "177/177 [==============================] - 112s 632ms/step - loss: 2.4593 - accuracy: 0.3598 - val_loss: 2.3937 - val_accuracy: 0.3664\n",
            "Epoch 5/5\n",
            "177/177 [==============================] - 111s 628ms/step - loss: 2.3309 - accuracy: 0.3681 - val_loss: 2.2868 - val_accuracy: 0.3823\n"
          ]
        }
      ]
    },
    {
      "cell_type": "code",
      "metadata": {
        "colab": {
          "base_uri": "https://localhost:8080/",
          "height": 867
        },
        "id": "mPVM5tnlbWHW",
        "outputId": "5b585bc5-6caf-47c4-f8f1-1bf96d17442c"
      },
      "source": [
        "# Plotting the loss and accuracy graphs\n",
        "\n",
        "import matplotlib.pyplot as plt\n",
        "\n",
        "plt.figure(figsize = (15,7))\n",
        "\n",
        "tr_losses = history.history['loss']\n",
        "val_losses = history.history['val_loss']\n",
        "\n",
        "tr_accs = history.history['accuracy']\n",
        "val_accs = history.history['val_accuracy']\n",
        "\n",
        "plt.plot(tr_losses, label = \"train_loss\")\n",
        "plt.plot(val_losses, label = \"val_loss\")\n",
        "plt.xlabel(\"Number of epochs\")\n",
        "plt.ylabel(\"Cost (J)\")\n",
        "plt.grid()\n",
        "plt.legend()\n",
        "plt.show()\n",
        "\n",
        "plt.figure(figsize = (15,7))\n",
        "\n",
        "plt.plot(tr_accs, label = \"acc_train\")\n",
        "plt.plot(val_accs, label = \"acc_val\")\n",
        "plt.xlabel(\"Number of epochs\")\n",
        "plt.ylabel(\"Accuracy\")\n",
        "plt.grid()\n",
        "plt.legend()\n",
        "plt.show()"
      ],
      "execution_count": 16,
      "outputs": [
        {
          "output_type": "display_data",
          "data": {
            "text/plain": [
              "<Figure size 1080x504 with 1 Axes>"
            ],
            "image/png": "[encoded data removed]"
          },
          "metadata": {
            "needs_background": "light"
          }
        },
        {
          "output_type": "display_data",
          "data": {
            "text/plain": [
              "<Figure size 1080x504 with 1 Axes>"
            ],
            "image/png": "[encoded data removed]"
          },
          "metadata": {
            "needs_background": "light"
          }
        }
      ]
    },
    {
      "cell_type": "markdown",
      "metadata": {
        "id": "i1nd0ozBLU96"
      },
      "source": [
        "## Model evaluation on test set\n",
        "\n"
      ]
    },
    {
      "cell_type": "code",
      "metadata": {
        "colab": {
          "base_uri": "https://localhost:8080/"
        },
        "id": "AOg2apcILJQo",
        "outputId": "53132f16-146c-4339-e665-19e738142aa8"
      },
      "source": [
        "# Model prediction on test set\n",
        "\n",
        "predictions = model.predict(test_datagen,\n",
        "                            verbose = 1,\n",
        "                            steps = (len(test_datagen)))"
      ],
      "execution_count": 17,
      "outputs": [
        {
          "output_type": "stream",
          "name": "stdout",
          "text": [
            "1563/1563 [==============================] - 16s 10ms/step\n"
          ]
        }
      ]
    },
    {
      "cell_type": "code",
      "metadata": {
        "colab": {
          "base_uri": "https://localhost:8080/"
        },
        "id": "2OcQ1My_MCTR",
        "outputId": "2a2369be-5818-4279-d54d-72ad6fb82e06"
      },
      "source": [
        "# Printing predicted classes on the test dataset\n",
        "\n",
        "predictions.squeeze().argmax(axis = -1)"
      ],
      "execution_count": 18,
      "outputs": [
        {
          "output_type": "execute_result",
          "data": {
            "text/plain": [
              "array([0, 1, 2, ..., 2, 0, 2])"
            ]
          },
          "metadata": {},
          "execution_count": 18
        }
      ]
    },
    {
      "cell_type": "code",
      "metadata": {
        "colab": {
          "base_uri": "https://localhost:8080/"
        },
        "id": "1mX7007uLJCi",
        "outputId": "41b8b058-18a3-4c77-fec0-f6d6dc6eff93"
      },
      "source": [
        "# Generating the classification report for checking the model's performance on the test set of the same dataset\n",
        "\n",
        "classification__report = classification_report(test_datagen.classes,\n",
        "                                               predictions.squeeze().argmax(axis = 1))\n",
        "print(classification__report)"
      ],
      "execution_count": 19,
      "outputs": [
        {
          "output_type": "stream",
          "name": "stdout",
          "text": [
            "              precision    recall  f1-score   support\n",
            "\n",
            "           0       0.33      0.31      0.32       491\n",
            "           1       0.38      0.36      0.37       545\n",
            "           2       0.38      0.41      0.39       527\n",
            "\n",
            "    accuracy                           0.36      1563\n",
            "   macro avg       0.36      0.36      0.36      1563\n",
            "weighted avg       0.36      0.36      0.36      1563\n",
            "\n"
          ]
        }
      ]
    },
    {
      "cell_type": "code",
      "metadata": {
        "colab": {
          "base_uri": "https://localhost:8080/"
        },
        "id": "WvlpxIs2LP6a",
        "outputId": "717a04da-397b-44d5-bd6e-576684d9b767"
      },
      "source": [
        "# Generating confusion matrix to see where the model is misclassifying\n",
        "\n",
        "confusion__matrix = confusion_matrix(test_datagen.classes,\n",
        "                                     predictions.squeeze().argmax(axis = 1))\n",
        "print(confusion__matrix)"
      ],
      "execution_count": 20,
      "outputs": [
        {
          "output_type": "stream",
          "name": "stdout",
          "text": [
            "[[152 180 159]\n",
            " [143 198 204]\n",
            " [170 139 218]]\n"
          ]
        }
      ]
    },
    {
      "cell_type": "code",
      "metadata": {
        "id": "P02D0amrCxqd"
      },
      "source": [
        "# Defining a function to print a confusion matrix\n",
        "# Code snippet referenced from: https://scikit-learn.org/0.18/auto_examples/model_selection/plot_confusion_matrix.html\n",
        "\n",
        "import itertools\n",
        "def plot_confusion_matrix(cm,\n",
        "                          classes,\n",
        "                          normalise = False,\n",
        "                          title = 'Confusion matrix',\n",
        "                          cmap = plt.cm.Reds):\n",
        "    \n",
        "    plt.imshow(cm, interpolation = 'nearest', cmap = cmap)\n",
        "    plt.title(title)\n",
        "    plt.colorbar()\n",
        "    tick_marks = np.arange(len(classes))\n",
        "    plt.xticks(tick_marks, classes, rotation = 45)\n",
        "    plt.yticks(tick_marks, classes)\n",
        "\n",
        "    if normalise:\n",
        "        cm = cm.astype('float') / cm.sum(axis = 1)[:, np.newaxis]\n",
        "        cm = cm.round(2)\n",
        "\n",
        "    thresh = cm.max() / 2.\n",
        "    \n",
        "    for i, j in itertools.product(range(cm.shape[0]), range(cm.shape[1])):\n",
        "        plt.text(j, i, cm[i, j],\n",
        "                 horizontalalignment = \"center\",\n",
        "                 color = \"white\" if cm[i, j] > thresh else \"black\")\n",
        "        \n",
        "    plt.tight_layout()\n",
        "    plt.ylabel('True label')\n",
        "    plt.xlabel('Predicted label')"
      ],
      "execution_count": 21,
      "outputs": []
    },
    {
      "cell_type": "code",
      "metadata": {
        "colab": {
          "base_uri": "https://localhost:8080/",
          "height": 455
        },
        "id": "hnQiFQydI-gY",
        "outputId": "3a0ff445-6042-48c3-c2b3-c820b7fa2166"
      },
      "source": [
        "# Printing the confusion matrix (not normalised)\n",
        "\n",
        "np.set_printoptions(precision = 2)\n",
        "fig1 = plt.figure(figsize = (7, 6))\n",
        "plot_confusion_matrix(confusion__matrix,\n",
        "                      classes = np.unique(test_datagen.classes),\n",
        "                      title = 'Confusion matrix without normalisation')\n",
        "fig1.savefig('/content/cm_wo_norm.jpg')\n",
        "plt.show()"
      ],
      "execution_count": 22,
      "outputs": [
        {
          "output_type": "display_data",
          "data": {
            "text/plain": [
              "<Figure size 504x432 with 2 Axes>"
            ],
            "image/png": "[encoded data removed]"
          },
          "metadata": {
            "needs_background": "light"
          }
        }
      ]
    },
    {
      "cell_type": "code",
      "metadata": {
        "colab": {
          "base_uri": "https://localhost:8080/",
          "height": 455
        },
        "id": "pGMNo8k8I2pt",
        "outputId": "419c7bc5-ade5-4cb0-d6a6-af0b3faf3678"
      },
      "source": [
        "# Printing the confusion matrix (normalised)\n",
        "\n",
        "np.set_printoptions(precision = 2)\n",
        "fig2 = plt.figure(figsize = (7,6))\n",
        "plot_confusion_matrix(confusion__matrix,\n",
        "                      classes = np.unique(test_datagen.classes),\n",
        "                      normalise = True,\n",
        "                      title = 'Normalised Confusion matrix')\n",
        "fig2.savefig('/content/cm_norm.jpg')\n",
        "plt.show()"
      ],
      "execution_count": 23,
      "outputs": [
        {
          "output_type": "display_data",
          "data": {
            "text/plain": [
              "<Figure size 504x432 with 2 Axes>"
            ],
            "image/png": "[encoded data removed]"
          },
          "metadata": {
            "needs_background": "light"
          }
        }
      ]
    },
    {
      "cell_type": "markdown",
      "source": [
        "# Using pretrained network"
      ],
      "metadata": {
        "id": "NduvZ--kPOTu"
      }
    },
    {
      "cell_type": "code",
      "source": [
        "from keras.models import Sequential\n",
        "from keras import layers"
      ],
      "metadata": {
        "id": "YlcsZsHqQ1AW"
      },
      "execution_count": 24,
      "outputs": []
    },
    {
      "cell_type": "code",
      "source": [
        "pretrained_model = tf.keras.applications.VGG19(include_top = False, \n",
        "                                                   weights = 'imagenet', \n",
        "                                                   input_shape = (224, 224, 3), \n",
        "                                                   pooling = 'max')\n",
        "\n",
        "for layer in pretrained_model.layers:\n",
        "  layer.trainable = False\n",
        "\n",
        "model = Sequential()\n",
        "model.add(pretrained_model)\n",
        "model.add(layers.Dense(128, activation = 'relu'))\n",
        "model.add(layers.Dropout(0.3))\n",
        "model.add(layers.Dense(64, activation = 'relu'))\n",
        "model.add(layers.Dropout(0.3))\n",
        "model.add(layers.Dense(32, activation = 'relu'))\n",
        "model.add(layers.Dropout(0.3))\n",
        "model.add(layers.Dense(3, activation = 'softmax'))\n",
        "\n",
        "# Change from SGD optimizer to Adam with learning rate of .0001\n",
        "model.compile(optimizer = tf.keras.optimizers.Adam(0.0001),\n",
        "              loss = \"categorical_crossentropy\",\n",
        "              metrics = [\"accuracy\"])\n",
        "\n",
        "history = model.fit(train_datagen,\n",
        "                    epochs = 5,\n",
        "                    steps_per_epoch = (len(train_datagen)),\n",
        "                    validation_data = val_datagen,\n",
        "                    validation_steps = (len(val_datagen)),\n",
        "                    shuffle = False,\n",
        "                    callbacks = callback)"
      ],
      "metadata": {
        "colab": {
          "base_uri": "https://localhost:8080/"
        },
        "id": "43UFqgWCPRv-",
        "outputId": "c0f1dc25-150f-4f8c-d609-549d93ca0d55"
      },
      "execution_count": 25,
      "outputs": [
        {
          "output_type": "stream",
          "name": "stdout",
          "text": [
            "Downloading data from https://storage.googleapis.com/tensorflow/keras-applications/vgg19/vgg19_weights_tf_dim_ordering_tf_kernels_notop.h5\n",
            "80134624/80134624 [==============================] - 1s 0us/step\n",
            "Epoch 1/5\n",
            "177/177 [==============================] - 124s 669ms/step - loss: 1.0902 - accuracy: 0.4113 - val_loss: 0.9154 - val_accuracy: 0.7916\n",
            "Epoch 2/5\n",
            "177/177 [==============================] - 112s 631ms/step - loss: 0.8549 - accuracy: 0.6298 - val_loss: 0.6056 - val_accuracy: 0.8320\n",
            "Epoch 3/5\n",
            "177/177 [==============================] - 111s 628ms/step - loss: 0.6523 - accuracy: 0.7413 - val_loss: 0.4832 - val_accuracy: 0.8476\n",
            "Epoch 4/5\n",
            "177/177 [==============================] - 111s 628ms/step - loss: 0.5407 - accuracy: 0.7939 - val_loss: 0.4161 - val_accuracy: 0.8551\n",
            "Epoch 5/5\n",
            "177/177 [==============================] - 111s 629ms/step - loss: 0.4788 - accuracy: 0.8233 - val_loss: 0.3789 - val_accuracy: 0.8678\n"
          ]
        }
      ]
    },
    {
      "cell_type": "code",
      "source": [
        "# Plotting the loss and accuracy graphs\n",
        "\n",
        "import matplotlib.pyplot as plt\n",
        "\n",
        "plt.figure(figsize = (15,7))\n",
        "\n",
        "tr_losses = history.history['loss']\n",
        "val_losses = history.history['val_loss']\n",
        "\n",
        "tr_accs = history.history['accuracy']\n",
        "val_accs = history.history['val_accuracy']\n",
        "\n",
        "plt.plot(tr_losses, label = \"train_loss\")\n",
        "plt.plot(val_losses, label = \"val_loss\")\n",
        "plt.xlabel(\"Number of epochs\")\n",
        "plt.ylabel(\"Cost (J)\")\n",
        "plt.grid()\n",
        "plt.legend()\n",
        "plt.show()\n",
        "\n",
        "plt.figure(figsize = (15,7))\n",
        "\n",
        "plt.plot(tr_accs, label = \"acc_train\")\n",
        "plt.plot(val_accs, label = \"acc_val\")\n",
        "plt.xlabel(\"Number of epochs\")\n",
        "plt.ylabel(\"Accuracy\")\n",
        "plt.grid()\n",
        "plt.legend()\n",
        "plt.show()"
      ],
      "metadata": {
        "colab": {
          "base_uri": "https://localhost:8080/",
          "height": 867
        },
        "id": "NzdO85sZRmb_",
        "outputId": "b21b735a-adb2-478e-a7a7-f30903849c16"
      },
      "execution_count": 26,
      "outputs": [
        {
          "output_type": "display_data",
          "data": {
            "text/plain": [
              "<Figure size 1080x504 with 1 Axes>"
            ],
            "image/png": "[encoded data removed]"
          },
          "metadata": {
            "needs_background": "light"
          }
        },
        {
          "output_type": "display_data",
          "data": {
            "text/plain": [
              "<Figure size 1080x504 with 1 Axes>"
            ],
            "image/png": "[encoded data removed]"
          },
          "metadata": {
            "needs_background": "light"
          }
        }
      ]
    },
    {
      "cell_type": "code",
      "source": [
        "# Model prediction on test set\n",
        "\n",
        "predictions = model.predict(test_datagen,\n",
        "                            verbose = 1,\n",
        "                            steps = (len(test_datagen)))"
      ],
      "metadata": {
        "colab": {
          "base_uri": "https://localhost:8080/"
        },
        "id": "yyWHdxBuRp2e",
        "outputId": "2b4adb70-dd1e-49e9-b0c9-0121b0f773ac"
      },
      "execution_count": 27,
      "outputs": [
        {
          "output_type": "stream",
          "name": "stdout",
          "text": [
            "1563/1563 [==============================] - 23s 14ms/step\n"
          ]
        }
      ]
    },
    {
      "cell_type": "code",
      "source": [
        "# Printing predicted classes on the test dataset\n",
        "\n",
        "predictions.squeeze().argmax(axis = -1)"
      ],
      "metadata": {
        "colab": {
          "base_uri": "https://localhost:8080/"
        },
        "id": "iO_EvRUdRsfu",
        "outputId": "e1b796fc-c762-4dce-d605-59cc4fa47a52"
      },
      "execution_count": 28,
      "outputs": [
        {
          "output_type": "execute_result",
          "data": {
            "text/plain": [
              "array([0, 0, 0, ..., 0, 2, 2])"
            ]
          },
          "metadata": {},
          "execution_count": 28
        }
      ]
    },
    {
      "cell_type": "code",
      "source": [
        "# Generating the classification report for checking the model's performance on the test set of the same dataset\n",
        "\n",
        "classification__report = classification_report(test_datagen.classes,\n",
        "                                               predictions.squeeze().argmax(axis = 1))\n",
        "print(classification__report)"
      ],
      "metadata": {
        "colab": {
          "base_uri": "https://localhost:8080/"
        },
        "id": "4J-p5aZoRvNm",
        "outputId": "caa65f23-1e26-4fba-913f-0a1505e1b13d"
      },
      "execution_count": 29,
      "outputs": [
        {
          "output_type": "stream",
          "name": "stdout",
          "text": [
            "              precision    recall  f1-score   support\n",
            "\n",
            "           0       0.81      0.87      0.84       491\n",
            "           1       0.85      0.80      0.82       545\n",
            "           2       0.92      0.93      0.93       527\n",
            "\n",
            "    accuracy                           0.86      1563\n",
            "   macro avg       0.86      0.86      0.86      1563\n",
            "weighted avg       0.86      0.86      0.86      1563\n",
            "\n"
          ]
        }
      ]
    },
    {
      "cell_type": "code",
      "source": [
        "# Generating confusion matrix to see where the model is misclassifying\n",
        "\n",
        "confusion__matrix = confusion_matrix(test_datagen.classes,\n",
        "                                     predictions.squeeze().argmax(axis = 1))\n",
        "print(confusion__matrix)"
      ],
      "metadata": {
        "colab": {
          "base_uri": "https://localhost:8080/"
        },
        "id": "K0QuIeLURxqe",
        "outputId": "a5908164-f148-491e-ffbb-fc21d2a49bcd"
      },
      "execution_count": 30,
      "outputs": [
        {
          "output_type": "stream",
          "name": "stdout",
          "text": [
            "[[425  52  14]\n",
            " [ 84 435  26]\n",
            " [ 14  24 489]]\n"
          ]
        }
      ]
    },
    {
      "cell_type": "code",
      "source": [
        "# Defining a function to print a confusion matrix\n",
        "# Code snippet referenced from: https://scikit-learn.org/0.18/auto_examples/model_selection/plot_confusion_matrix.html\n",
        "\n",
        "import itertools\n",
        "def plot_confusion_matrix(cm,\n",
        "                          classes,\n",
        "                          normalise = False,\n",
        "                          title = 'Confusion matrix',\n",
        "                          cmap = plt.cm.Reds):\n",
        "    \n",
        "    plt.imshow(cm, interpolation = 'nearest', cmap = cmap)\n",
        "    plt.title(title)\n",
        "    plt.colorbar()\n",
        "    tick_marks = np.arange(len(classes))\n",
        "    plt.xticks(tick_marks, classes, rotation = 45)\n",
        "    plt.yticks(tick_marks, classes)\n",
        "\n",
        "    if normalise:\n",
        "        cm = cm.astype('float') / cm.sum(axis = 1)[:, np.newaxis]\n",
        "        cm = cm.round(2)\n",
        "\n",
        "    thresh = cm.max() / 2.\n",
        "    \n",
        "    for i, j in itertools.product(range(cm.shape[0]), range(cm.shape[1])):\n",
        "        plt.text(j, i, cm[i, j],\n",
        "                 horizontalalignment = \"center\",\n",
        "                 color = \"white\" if cm[i, j] > thresh else \"black\")\n",
        "        \n",
        "    plt.tight_layout()\n",
        "    plt.ylabel('True label')\n",
        "    plt.xlabel('Predicted label')"
      ],
      "metadata": {
        "id": "TPk_abc2R0f-"
      },
      "execution_count": 31,
      "outputs": []
    },
    {
      "cell_type": "code",
      "source": [
        "# Printing the confusion matrix (not normalised)\n",
        "\n",
        "np.set_printoptions(precision = 2)\n",
        "fig1 = plt.figure(figsize = (7, 6))\n",
        "plot_confusion_matrix(confusion__matrix,\n",
        "                      classes = np.unique(test_datagen.classes),\n",
        "                      title = 'Confusion matrix without normalisation')\n",
        "fig1.savefig('/content/cm_wo_norm.jpg')\n",
        "plt.show()"
      ],
      "metadata": {
        "colab": {
          "base_uri": "https://localhost:8080/",
          "height": 455
        },
        "id": "xyLQi17wR2_2",
        "outputId": "8c11d3b6-0ccc-42c1-b4cb-10f22673bb96"
      },
      "execution_count": 32,
      "outputs": [
        {
          "output_type": "display_data",
          "data": {
            "text/plain": [
              "<Figure size 504x432 with 2 Axes>"
            ],
            "image/png": "[encoded data removed]"
          },
          "metadata": {
            "needs_background": "light"
          }
        }
      ]
    },
    {
      "cell_type": "code",
      "source": [
        "# Printing the confusion matrix (normalised)\n",
        "\n",
        "np.set_printoptions(precision = 2)\n",
        "fig2 = plt.figure(figsize = (7,6))\n",
        "plot_confusion_matrix(confusion__matrix,\n",
        "                      classes = np.unique(test_datagen.classes),\n",
        "                      normalise = True,\n",
        "                      title = 'Normalised Confusion matrix')\n",
        "fig2.savefig('/content/cm_norm.jpg')\n",
        "plt.show()"
      ],
      "metadata": {
        "colab": {
          "base_uri": "https://localhost:8080/",
          "height": 455
        },
        "id": "u2YbC0niR6C-",
        "outputId": "d8a55a10-1195-4e0e-ab67-d948116ba1b8"
      },
      "execution_count": 33,
      "outputs": [
        {
          "output_type": "display_data",
          "data": {
            "text/plain": [
              "<Figure size 504x432 with 2 Axes>"
            ],
            "image/png": "[encoded data removed]"
          },
          "metadata": {
            "needs_background": "light"
          }
        }
      ]
    },
    {
      "cell_type": "markdown",
      "source": [
        "# Fine tuning"
      ],
      "metadata": {
        "id": "NoNOusMXSIst"
      }
    },
    {
      "cell_type": "code",
      "source": [
        "pretrained_model = tf.keras.applications.VGG19(include_top = False, \n",
        "                                                        weights = 'imagenet', \n",
        "                                                        input_shape = (224, 224, 3), \n",
        "                                                        pooling = 'max')\n",
        "\n",
        "# for layer in pretrained_model.layers:\n",
        "#   layer.trainable = False\n",
        "\n",
        "for layer in pretrained_model.layers:\n",
        "  if layer.name == 'block5_conv1':\n",
        "    break\n",
        "  layer.trainable = False\n",
        "  \n",
        "model = Sequential()\n",
        "model.add(pretrained_model)\n",
        "model.add(layers.Dense(128, activation = 'relu'))\n",
        "model.add(layers.Dropout(0.3))\n",
        "model.add(layers.Dense(64, activation = 'relu'))\n",
        "model.add(layers.Dropout(0.3))\n",
        "model.add(layers.Dense(32, activation = 'relu'))\n",
        "model.add(layers.Dropout(0.3))\n",
        "model.add(layers.Dense(3, activation = 'softmax'))\n",
        "\n",
        "model.compile(optimizer = tf.keras.optimizers.Adam(0.0001),\n",
        "              loss = \"categorical_crossentropy\",\n",
        "              metrics = [\"accuracy\"])\n",
        "\n",
        "model_filepath = '/content/best_model.h5'\n",
        "\n",
        "model_save = tf.keras.callbacks.ModelCheckpoint(model_filepath,\n",
        "                                                monitor = \"val_accuracy\",\n",
        "                                                verbose = 0,\n",
        "                                                save_best_only = True,\n",
        "                                                save_weights_only = False,\n",
        "                                                mode = \"max\",\n",
        "                                                save_freq = \"epoch\")\n",
        "\n",
        "callback = [model_save]\n",
        "\n",
        "history = model.fit(train_datagen,\n",
        "                    epochs = 12,\n",
        "                    steps_per_epoch = (len(train_datagen)),\n",
        "                    validation_data = val_datagen,\n",
        "                    validation_steps = (len(val_datagen)),\n",
        "                    shuffle = False,\n",
        "                    callbacks = callback)"
      ],
      "metadata": {
        "colab": {
          "base_uri": "https://localhost:8080/"
        },
        "id": "WcDJkM2GScVl",
        "outputId": "2b9e75b2-824b-4bdb-c739-f99d5d51a66f"
      },
      "execution_count": 36,
      "outputs": [
        {
          "output_type": "stream",
          "name": "stdout",
          "text": [
            "Epoch 1/12\n",
            "177/177 [==============================] - 116s 649ms/step - loss: 0.4999 - accuracy: 0.7833 - val_loss: 0.2478 - val_accuracy: 0.9266\n",
            "Epoch 2/12\n",
            "177/177 [==============================] - 115s 647ms/step - loss: 0.2159 - accuracy: 0.9302 - val_loss: 0.2241 - val_accuracy: 0.9537\n",
            "Epoch 3/12\n",
            "177/177 [==============================] - 114s 641ms/step - loss: 0.1287 - accuracy: 0.9573 - val_loss: 0.2008 - val_accuracy: 0.9540\n",
            "Epoch 4/12\n",
            "177/177 [==============================] - 114s 643ms/step - loss: 0.0991 - accuracy: 0.9679 - val_loss: 0.2162 - val_accuracy: 0.9614\n",
            "Epoch 5/12\n",
            "177/177 [==============================] - 129s 728ms/step - loss: 0.0692 - accuracy: 0.9797 - val_loss: 0.2570 - val_accuracy: 0.9655\n",
            "Epoch 6/12\n",
            "177/177 [==============================] - 114s 643ms/step - loss: 0.0541 - accuracy: 0.9839 - val_loss: 0.2456 - val_accuracy: 0.9683\n",
            "Epoch 7/12\n",
            "177/177 [==============================] - 113s 640ms/step - loss: 0.0468 - accuracy: 0.9874 - val_loss: 0.3279 - val_accuracy: 0.9586\n",
            "Epoch 8/12\n",
            "177/177 [==============================] - 113s 640ms/step - loss: 0.0468 - accuracy: 0.9866 - val_loss: 0.2514 - val_accuracy: 0.9717\n",
            "Epoch 9/12\n",
            "177/177 [==============================] - 114s 642ms/step - loss: 0.0361 - accuracy: 0.9891 - val_loss: 0.3910 - val_accuracy: 0.9555\n",
            "Epoch 10/12\n",
            "177/177 [==============================] - 113s 640ms/step - loss: 0.0355 - accuracy: 0.9888 - val_loss: 0.3966 - val_accuracy: 0.9652\n",
            "Epoch 11/12\n",
            "177/177 [==============================] - 114s 641ms/step - loss: 0.0233 - accuracy: 0.9925 - val_loss: 0.3171 - val_accuracy: 0.9723\n",
            "Epoch 12/12\n",
            "177/177 [==============================] - 114s 644ms/step - loss: 0.0208 - accuracy: 0.9952 - val_loss: 0.3332 - val_accuracy: 0.9680\n"
          ]
        }
      ]
    },
    {
      "cell_type": "code",
      "source": [
        "# Plotting the loss and accuracy graphs\n",
        "\n",
        "import matplotlib.pyplot as plt\n",
        "\n",
        "plt.figure(figsize = (15,7))\n",
        "\n",
        "tr_losses = history.history['loss']\n",
        "val_losses = history.history['val_loss']\n",
        "\n",
        "tr_accs = history.history['accuracy']\n",
        "val_accs = history.history['val_accuracy']\n",
        "\n",
        "plt.plot(tr_losses, label = \"train_loss\")\n",
        "plt.plot(val_losses, label = \"val_loss\")\n",
        "plt.xlabel(\"Number of epochs\")\n",
        "plt.ylabel(\"Cost (J)\")\n",
        "plt.grid()\n",
        "plt.legend()\n",
        "plt.show()\n",
        "\n",
        "plt.figure(figsize = (15,7))\n",
        "\n",
        "plt.plot(tr_accs, label = \"acc_train\")\n",
        "plt.plot(val_accs, label = \"acc_val\")\n",
        "plt.xlabel(\"Number of epochs\")\n",
        "plt.ylabel(\"Accuracy\")\n",
        "plt.grid()\n",
        "plt.legend()\n",
        "plt.show()"
      ],
      "metadata": {
        "colab": {
          "base_uri": "https://localhost:8080/",
          "height": 867
        },
        "id": "dbbozMO3fs7l",
        "outputId": "161548d7-af30-405a-8a16-05419aae76ec"
      },
      "execution_count": 37,
      "outputs": [
        {
          "output_type": "display_data",
          "data": {
            "text/plain": [
              "<Figure size 1080x504 with 1 Axes>"
            ],
            "image/png": "[encoded data removed]"
          },
          "metadata": {
            "needs_background": "light"
          }
        },
        {
          "output_type": "display_data",
          "data": {
            "text/plain": [
              "<Figure size 1080x504 with 1 Axes>"
            ],
            "image/png": "[encoded data removed]"
          },
          "metadata": {
            "needs_background": "light"
          }
        }
      ]
    },
    {
      "cell_type": "code",
      "source": [
        "# Model prediction on test set\n",
        "\n",
        "predictions = model.predict(test_datagen,\n",
        "                            verbose = 1,\n",
        "                            steps = (len(test_datagen)))"
      ],
      "metadata": {
        "colab": {
          "base_uri": "https://localhost:8080/"
        },
        "id": "qpsHlX9VfwbV",
        "outputId": "392e0c4c-3a27-414c-8c48-236be9a7e956"
      },
      "execution_count": 38,
      "outputs": [
        {
          "output_type": "stream",
          "name": "stdout",
          "text": [
            "1563/1563 [==============================] - 22s 14ms/step\n"
          ]
        }
      ]
    },
    {
      "cell_type": "code",
      "source": [
        "# Printing predicted classes on the test dataset\n",
        "\n",
        "predictions.squeeze().argmax(axis = -1)"
      ],
      "metadata": {
        "colab": {
          "base_uri": "https://localhost:8080/"
        },
        "id": "gvWQ2aYkf0sd",
        "outputId": "0fe957d4-86b3-4cfe-a03d-176edc1f2dcb"
      },
      "execution_count": 39,
      "outputs": [
        {
          "output_type": "execute_result",
          "data": {
            "text/plain": [
              "array([0, 0, 0, ..., 2, 2, 2])"
            ]
          },
          "metadata": {},
          "execution_count": 39
        }
      ]
    },
    {
      "cell_type": "code",
      "source": [
        "# Generating the classification report for checking the model's performance on the test set of the same dataset\n",
        "\n",
        "classification__report = classification_report(test_datagen.classes,\n",
        "                                               predictions.squeeze().argmax(axis = 1))\n",
        "print(classification__report)"
      ],
      "metadata": {
        "colab": {
          "base_uri": "https://localhost:8080/"
        },
        "id": "HD-Pnxw-f4j0",
        "outputId": "af7c040e-da12-4387-efea-8abcf6b584fc"
      },
      "execution_count": 40,
      "outputs": [
        {
          "output_type": "stream",
          "name": "stdout",
          "text": [
            "              precision    recall  f1-score   support\n",
            "\n",
            "           0       0.97      0.99      0.98       491\n",
            "           1       0.96      0.98      0.97       545\n",
            "           2       1.00      0.95      0.97       527\n",
            "\n",
            "    accuracy                           0.97      1563\n",
            "   macro avg       0.98      0.97      0.97      1563\n",
            "weighted avg       0.98      0.97      0.97      1563\n",
            "\n"
          ]
        }
      ]
    },
    {
      "cell_type": "code",
      "source": [
        "# Generating confusion matrix to see where the model is misclassifying\n",
        "\n",
        "confusion__matrix = confusion_matrix(test_datagen.classes,\n",
        "                                     predictions.squeeze().argmax(axis = 1))\n",
        "print(confusion__matrix)"
      ],
      "metadata": {
        "colab": {
          "base_uri": "https://localhost:8080/"
        },
        "id": "7Yguaouff8Qk",
        "outputId": "a1df1515-a6c5-4844-95db-1fdaa0e80d59"
      },
      "execution_count": 41,
      "outputs": [
        {
          "output_type": "stream",
          "name": "stdout",
          "text": [
            "[[488   2   1]\n",
            " [  9 536   0]\n",
            " [  7  21 499]]\n"
          ]
        }
      ]
    },
    {
      "cell_type": "code",
      "source": [
        "# Defining a function to print a confusion matrix\n",
        "# Code snippet referenced from: https://scikit-learn.org/0.18/auto_examples/model_selection/plot_confusion_matrix.html\n",
        "\n",
        "import itertools\n",
        "def plot_confusion_matrix(cm,\n",
        "                          classes,\n",
        "                          normalise = False,\n",
        "                          title = 'Confusion matrix',\n",
        "                          cmap = plt.cm.Reds):\n",
        "    \n",
        "    plt.imshow(cm, interpolation = 'nearest', cmap = cmap)\n",
        "    plt.title(title)\n",
        "    plt.colorbar()\n",
        "    tick_marks = np.arange(len(classes))\n",
        "    plt.xticks(tick_marks, classes, rotation = 45)\n",
        "    plt.yticks(tick_marks, classes)\n",
        "\n",
        "    if normalise:\n",
        "        cm = cm.astype('float') / cm.sum(axis = 1)[:, np.newaxis]\n",
        "        cm = cm.round(2)\n",
        "\n",
        "    thresh = cm.max() / 2.\n",
        "    \n",
        "    for i, j in itertools.product(range(cm.shape[0]), range(cm.shape[1])):\n",
        "        plt.text(j, i, cm[i, j],\n",
        "                 horizontalalignment = \"center\",\n",
        "                 color = \"white\" if cm[i, j] > thresh else \"black\")\n",
        "        \n",
        "    plt.tight_layout()\n",
        "    plt.ylabel('True label')\n",
        "    plt.xlabel('Predicted label')"
      ],
      "metadata": {
        "id": "IuyOpdc8f_ft"
      },
      "execution_count": 42,
      "outputs": []
    },
    {
      "cell_type": "code",
      "source": [
        "# Printing the confusion matrix (not normalised)\n",
        "\n",
        "np.set_printoptions(precision = 2)\n",
        "fig1 = plt.figure(figsize = (7, 6))\n",
        "plot_confusion_matrix(confusion__matrix,\n",
        "                      classes = np.unique(test_datagen.classes),\n",
        "                      title = 'Confusion matrix without normalisation')\n",
        "fig1.savefig('/content/cm_wo_norm.jpg')\n",
        "plt.show()"
      ],
      "metadata": {
        "colab": {
          "base_uri": "https://localhost:8080/",
          "height": 455
        },
        "id": "9kI_pAOlgDFk",
        "outputId": "902d32dd-f106-4434-885f-6019f48724fe"
      },
      "execution_count": 43,
      "outputs": [
        {
          "output_type": "display_data",
          "data": {
            "text/plain": [
              "<Figure size 504x432 with 2 Axes>"
            ],
            "image/png": "[encoded data removed]"
          },
          "metadata": {
            "needs_background": "light"
          }
        }
      ]
    },
    {
      "cell_type": "code",
      "source": [
        "# Printing the confusion matrix (normalised)\n",
        "\n",
        "np.set_printoptions(precision = 2)\n",
        "fig2 = plt.figure(figsize = (7,6))\n",
        "plot_confusion_matrix(confusion__matrix,\n",
        "                      classes = np.unique(test_datagen.classes),\n",
        "                      normalise = True,\n",
        "                      title = 'Normalised Confusion matrix')\n",
        "fig2.savefig('/content/cm_norm.jpg')\n",
        "plt.show()"
      ],
      "metadata": {
        "colab": {
          "base_uri": "https://localhost:8080/",
          "height": 455
        },
        "id": "nnMhCxczgF1s",
        "outputId": "8d25843c-00c5-4d78-cf0c-6152ab04fa04"
      },
      "execution_count": 44,
      "outputs": [
        {
          "output_type": "display_data",
          "data": {
            "text/plain": [
              "<Figure size 504x432 with 2 Axes>"
            ],
            "image/png": "[encoded data removed]"
          },
          "metadata": {
            "needs_background": "light"
          }
        }
      ]
    }
  ]
}